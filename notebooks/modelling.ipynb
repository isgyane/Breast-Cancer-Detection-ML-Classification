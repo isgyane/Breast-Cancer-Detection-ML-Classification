{
 "cells": [
  {
   "cell_type": "markdown",
   "metadata": {},
   "source": [
    "## Building the Model\n",
    "\n",
    "I'm going to apply three classification models and then compare the outcome\n",
    "* Logistic Regression\n",
    "* Random Forest\n",
    "* Linear SVC"
   ]
  },
  {
   "cell_type": "code",
   "execution_count": 8,
   "metadata": {},
   "outputs": [],
   "source": [
    "# Import all from the 'imports.ipynb'\n",
    "from ipynb.fs.full.preprocessing import *"
   ]
  },
  {
   "cell_type": "markdown",
   "metadata": {},
   "source": [
    "### Logistic Regression"
   ]
  },
  {
   "cell_type": "code",
   "execution_count": 9,
   "metadata": {},
   "outputs": [],
   "source": [
    "clf_logReg = LogisticRegression()\n",
    "\n",
    "# Train the model on the training data\n",
    "clf_logReg.fit(X_train, y_train)\n",
    "\n",
    "# Predict the target values\n",
    "y_pred = clf_logReg.predict(X_test)\n"
   ]
  },
  {
   "cell_type": "code",
   "execution_count": 10,
   "metadata": {},
   "outputs": [
    {
     "data": {
      "text/plain": [
       "((114,), (114,))"
      ]
     },
     "execution_count": 10,
     "metadata": {},
     "output_type": "execute_result"
    }
   ],
   "source": [
    "y_pred.shape, y_test.shape"
   ]
  },
  {
   "cell_type": "code",
   "execution_count": 11,
   "metadata": {},
   "outputs": [
    {
     "name": "stdout",
     "output_type": "stream",
     "text": [
      "[[70  1]\n",
      " [ 2 41]]\n"
     ]
    }
   ],
   "source": [
    "# The confusion Matrix\n",
    "cm = confusion_matrix(y_test, y_pred)\n",
    "print(cm)"
   ]
  },
  {
   "cell_type": "code",
   "execution_count": 12,
   "metadata": {},
   "outputs": [
    {
     "data": {
      "image/png": "[encoded data removed]",
      "text/plain": [
       "<Figure size 640x480 with 2 Axes>"
      ]
     },
     "metadata": {},
     "output_type": "display_data"
    }
   ],
   "source": [
    "disp = ConfusionMatrixDisplay(confusion_matrix=cm, display_labels=clf_logReg.classes_)\n",
    "disp.plot()\n",
    "plt.show()"
   ]
  },
  {
   "cell_type": "code",
   "execution_count": 13,
   "metadata": {},
   "outputs": [
    {
     "name": "stdout",
     "output_type": "stream",
     "text": [
      "              precision    recall  f1-score   support\n",
      "\n",
      "           0       0.97      0.99      0.98        71\n",
      "           1       0.98      0.95      0.96        43\n",
      "\n",
      "    accuracy                           0.97       114\n",
      "   macro avg       0.97      0.97      0.97       114\n",
      "weighted avg       0.97      0.97      0.97       114\n",
      "\n"
     ]
    }
   ],
   "source": [
    "# Evaluate the model's performance (Classification Report)\n",
    "\n",
    "report = classification_report(y_test, y_pred)\n",
    "print(report)"
   ]
  },
  {
   "cell_type": "code",
   "execution_count": 14,
   "metadata": {},
   "outputs": [
    {
     "name": "stdout",
     "output_type": "stream",
     "text": [
      "[0.97826087 0.97826087 0.97826087 0.95652174 1.         1.\n",
      " 0.97777778 0.97777778 0.95555556 0.93333333]\n"
     ]
    }
   ],
   "source": [
    "# Cross Validation score\n",
    "cv_scores = cross_val_score(clf_logReg, X_train, y_train, cv=10)\n",
    "print(cv_scores)"
   ]
  },
  {
   "cell_type": "code",
   "execution_count": 15,
   "metadata": {},
   "outputs": [
    {
     "name": "stdout",
     "output_type": "stream",
     "text": [
      "Accurcacy is 97.36%\n",
      "Standard deviation is 1.93\n"
     ]
    }
   ],
   "source": [
    "print(f\"Accurcacy is {cv_scores.mean()*100:.2f}%\") # Overall accuracy\n",
    "print(f\"Standard deviation is {cv_scores.std()*100:.2f}\") # Overall standard deviation"
   ]
  },
  {
   "cell_type": "markdown",
   "metadata": {},
   "source": [
    "### Random Forest Classifier"
   ]
  },
  {
   "cell_type": "code",
   "execution_count": 16,
   "metadata": {},
   "outputs": [],
   "source": [
    "clf_rf = RandomForestClassifier()\n",
    "\n",
    "# Train the model on the data\n",
    "clf_rf.fit(X_train, y_train)\n",
    "\n",
    "# Predict values of y\n",
    "y_pred = clf_rf.predict(X_test)"
   ]
  },
  {
   "cell_type": "code",
   "execution_count": 17,
   "metadata": {},
   "outputs": [
    {
     "data": {
      "text/plain": [
       "((114,), (114,))"
      ]
     },
     "execution_count": 17,
     "metadata": {},
     "output_type": "execute_result"
    }
   ],
   "source": [
    "y_pred.shape, y_test.shape"
   ]
  },
  {
   "cell_type": "code",
   "execution_count": 18,
   "metadata": {},
   "outputs": [
    {
     "data": {
      "image/png": "[encoded data removed]",
      "text/plain": [
       "<Figure size 640x480 with 2 Axes>"
      ]
     },
     "metadata": {},
     "output_type": "display_data"
    }
   ],
   "source": [
    "# Model Evaluation\n",
    "\n",
    "# The confusion Matrix\n",
    "cm = confusion_matrix(y_test, y_pred)\n",
    "\n",
    "disp = ConfusionMatrixDisplay(confusion_matrix=cm, display_labels=clf_rf.classes_)\n",
    "disp.plot()\n",
    "plt.show()"
   ]
  },
  {
   "cell_type": "code",
   "execution_count": 19,
   "metadata": {},
   "outputs": [
    {
     "name": "stdout",
     "output_type": "stream",
     "text": [
      "              precision    recall  f1-score   support\n",
      "\n",
      "           0       0.96      0.99      0.97        71\n",
      "           1       0.98      0.93      0.95        43\n",
      "\n",
      "    accuracy                           0.96       114\n",
      "   macro avg       0.97      0.96      0.96       114\n",
      "weighted avg       0.97      0.96      0.96       114\n",
      "\n"
     ]
    }
   ],
   "source": [
    "# Evaluate the model's performance (Classification Report)\n",
    "\n",
    "report = classification_report(y_test, y_pred)\n",
    "print(report)"
   ]
  },
  {
   "cell_type": "code",
   "execution_count": 20,
   "metadata": {},
   "outputs": [
    {
     "name": "stdout",
     "output_type": "stream",
     "text": [
      "[1.         0.95652174 0.95652174 0.91304348 0.97826087 0.97777778\n",
      " 0.97777778 0.95555556 0.97777778 0.93333333]\n",
      "Accurcacy is 96.27%\n",
      "Standard deviation is 2.40\n"
     ]
    }
   ],
   "source": [
    "# Cross Validation score\n",
    "cv_scores = cross_val_score(clf_rf, X_train, y_train, cv=10)\n",
    "print(cv_scores)\n",
    "\n",
    "print(f\"Accurcacy is {cv_scores.mean()*100:.2f}%\") # Overall accuracy\n",
    "print(f\"Standard deviation is {cv_scores.std()*100:.2f}\") # Overall standard deviation"
   ]
  },
  {
   "cell_type": "markdown",
   "metadata": {},
   "source": [
    "### Support Vector Machine - Classifier"
   ]
  },
  {
   "cell_type": "code",
   "execution_count": 21,
   "metadata": {},
   "outputs": [],
   "source": [
    "svc = svm.SVC()\n",
    "\n",
    "# Train the model on the data\n",
    "svc.fit(X_train, y_train)\n",
    "\n",
    "# Predict values of y\n",
    "y_pred = svc.predict(X_test)"
   ]
  },
  {
   "cell_type": "code",
   "execution_count": 22,
   "metadata": {},
   "outputs": [
    {
     "data": {
      "text/plain": [
       "((114,), (114,))"
      ]
     },
     "execution_count": 22,
     "metadata": {},
     "output_type": "execute_result"
    }
   ],
   "source": [
    "y_pred.shape, y_test.shape"
   ]
  },
  {
   "cell_type": "code",
   "execution_count": 23,
   "metadata": {},
   "outputs": [
    {
     "data": {
      "image/png": "[encoded data removed]",
      "text/plain": [
       "<Figure size 640x480 with 2 Axes>"
      ]
     },
     "metadata": {},
     "output_type": "display_data"
    }
   ],
   "source": [
    "# Model Evaluation\n",
    "\n",
    "# The confusion Matrix\n",
    "cm = confusion_matrix(y_test, y_pred)\n",
    "\n",
    "disp = ConfusionMatrixDisplay(confusion_matrix=cm, display_labels=svc.classes_)\n",
    "disp.plot()\n",
    "plt.show()"
   ]
  },
  {
   "cell_type": "code",
   "execution_count": 24,
   "metadata": {},
   "outputs": [
    {
     "name": "stdout",
     "output_type": "stream",
     "text": [
      "              precision    recall  f1-score   support\n",
      "\n",
      "           0       0.97      1.00      0.99        71\n",
      "           1       1.00      0.95      0.98        43\n",
      "\n",
      "    accuracy                           0.98       114\n",
      "   macro avg       0.99      0.98      0.98       114\n",
      "weighted avg       0.98      0.98      0.98       114\n",
      "\n"
     ]
    }
   ],
   "source": [
    "# Evaluate the model's performance (Classification Report)\n",
    "\n",
    "report = classification_report(y_test, y_pred)\n",
    "print(report)"
   ]
  },
  {
   "cell_type": "code",
   "execution_count": 25,
   "metadata": {},
   "outputs": [
    {
     "data": {
      "text/plain": [
       "{'0': {'precision': 0.9726027397260274,\n",
       "  'recall': 1.0,\n",
       "  'f1-score': 0.9861111111111112,\n",
       "  'support': 71.0},\n",
       " '1': {'precision': 1.0,\n",
       "  'recall': 0.9534883720930233,\n",
       "  'f1-score': 0.9761904761904762,\n",
       "  'support': 43.0},\n",
       " 'accuracy': 0.9824561403508771,\n",
       " 'macro avg': {'precision': 0.9863013698630136,\n",
       "  'recall': 0.9767441860465116,\n",
       "  'f1-score': 0.9811507936507937,\n",
       "  'support': 114.0},\n",
       " 'weighted avg': {'precision': 0.9829367940398942,\n",
       "  'recall': 0.9824561403508771,\n",
       "  'f1-score': 0.9823691172375383,\n",
       "  'support': 114.0}}"
      ]
     },
     "execution_count": 25,
     "metadata": {},
     "output_type": "execute_result"
    }
   ],
   "source": [
    "# Evaluate the model's performance (Classification Report)\n",
    "\n",
    "report = classification_report(y_test, y_pred, output_dict=True)\n",
    "report"
   ]
  },
  {
   "cell_type": "code",
   "execution_count": 26,
   "metadata": {},
   "outputs": [
    {
     "data": {
      "text/plain": [
       "0.9811507936507937"
      ]
     },
     "execution_count": 26,
     "metadata": {},
     "output_type": "execute_result"
    }
   ],
   "source": [
    "report[\"macro avg\"][\"f1-score\"]"
   ]
  },
  {
   "cell_type": "code",
   "execution_count": 27,
   "metadata": {},
   "outputs": [
    {
     "name": "stdout",
     "output_type": "stream",
     "text": [
      "[0.97826087 0.97826087 0.97826087 0.95652174 0.97826087 1.\n",
      " 1.         0.97777778 0.97777778 0.88888889]\n",
      "Accurcacy is 97.14%\n",
      "Standard deviation is 2.99\n"
     ]
    }
   ],
   "source": [
    "# Cross Validation score\n",
    "cv_scores = cross_val_score(svc, X_train, y_train, cv=10)\n",
    "print(cv_scores)\n",
    "\n",
    "print(f\"Accurcacy is {cv_scores.mean()*100:.2f}%\") # Overall accuracy\n",
    "print(f\"Standard deviation is {cv_scores.std()*100:.2f}\") # Overall standard deviation"
   ]
  },
  {
   "cell_type": "markdown",
   "metadata": {},
   "source": [
    "### Function for Model Training\n",
    "\n",
    "A function will simply my work in training and evaluating the models"
   ]
  },
  {
   "cell_type": "code",
   "execution_count": 28,
   "metadata": {},
   "outputs": [],
   "source": [
    "def model_func(models, cv):\n",
    "    \"\"\"\n",
    "    Trains and evaluates multiple machine learning models,and returns a DataFrame summarizing the performance metrics of each model.\n",
    "\n",
    "    For each model, it calculates the following metrics:\n",
    "    - Accuracy (calculated using cross-validation)\n",
    "    - Precision\n",
    "    - Recall\n",
    "    - F1 Score\n",
    "\n",
    "    Parameters:\n",
    "    models: A dictionary containing the models to be trained\n",
    "    cv (int): The number of folds to use for cross-validation.\n",
    "\n",
    "    Returns:\n",
    "    pd.DataFrame: A DataFrame containing the performance metrics for each model.\n",
    "                  The DataFrame has columns for the model name, accuracy, precision,\n",
    "                  recall, and F1 score.\n",
    "    \"\"\"\n",
    "    # Function implementation below\n",
    "\n",
    "    # Instantiate the necessary Models\n",
    "    svc = svm.SVC()\n",
    "    clf_logReg = LogisticRegression()\n",
    "    clf_rf = RandomForestClassifier()\n",
    "\n",
    "    metrics_df = pd.DataFrame(columns=[\"Model\", \"Accuracy\", \"Precision\", \"Recall\", \"F1 Score\", \"CV Accuracy\"])\n",
    "\n",
    "    for model_name, model in models.items():\n",
    "        # Train the model on training dataset\n",
    "        model.fit(X_train, y_train)\n",
    "    \n",
    "        # Predict values of y\n",
    "        y_pred = model.predict(X_test)\n",
    "\n",
    "        # Classification Report\n",
    "        report = classification_report(y_test, y_pred, output_dict=True)\n",
    "\n",
    "        accuracy = f\"{report[\"accuracy\"]*100:.2f}%\"\n",
    "        precision = report[\"macro avg\"][\"precision\"]\n",
    "        recall = report[\"macro avg\"][\"recall\"]\n",
    "        f1_score = report[\"macro avg\"][\"f1-score\"] \n",
    "\n",
    "        # Cross Validation score\n",
    "        cv_scores = cross_val_score(model, X_train, y_train, cv=cv)\n",
    "        cv_accuracy = f\"{cv_scores.mean()*100:.2f}%\"\n",
    "\n",
    "        model_metrics = pd.DataFrame([[model_name, accuracy, precision,recall, f1_score, cv_accuracy]], columns=metrics_df.columns)\n",
    "\n",
    "        if metrics_df.empty:\n",
    "            metrics_df = model_metrics\n",
    "        else:\n",
    "            # Append result to metrics dataframe\n",
    "            metrics_df = pd.concat([metrics_df, model_metrics], ignore_index=True)\n",
    "\n",
    "    return metrics_df\n",
    "    "
   ]
  },
  {
   "cell_type": "code",
   "execution_count": 29,
   "metadata": {},
   "outputs": [
    {
     "data": {
      "text/html": [
       "<div>\n",
       "<style scoped>\n",
       "    .dataframe tbody tr th:only-of-type {\n",
       "        vertical-align: middle;\n",
       "    }\n",
       "\n",
       "    .dataframe tbody tr th {\n",
       "        vertical-align: top;\n",
       "    }\n",
       "\n",
       "    .dataframe thead th {\n",
       "        text-align: right;\n",
       "    }\n",
       "</style>\n",
       "<table border=\"1\" class=\"dataframe\">\n",
       "  <thead>\n",
       "    <tr style=\"text-align: right;\">\n",
       "      <th></th>\n",
       "      <th>Model</th>\n",
       "      <th>Accuracy</th>\n",
       "      <th>Precision</th>\n",
       "      <th>Recall</th>\n",
       "      <th>F1 Score</th>\n",
       "      <th>CV Accuracy</th>\n",
       "    </tr>\n",
       "  </thead>\n",
       "  <tbody>\n",
       "    <tr>\n",
       "      <th>0</th>\n",
       "      <td>Logistic Regression</td>\n",
       "      <td>97.37%</td>\n",
       "      <td>0.974206</td>\n",
       "      <td>0.969702</td>\n",
       "      <td>0.971863</td>\n",
       "      <td>97.36%</td>\n",
       "    </tr>\n",
       "    <tr>\n",
       "      <th>1</th>\n",
       "      <td>RandomForest Classifier</td>\n",
       "      <td>96.49%</td>\n",
       "      <td>0.967257</td>\n",
       "      <td>0.958074</td>\n",
       "      <td>0.962302</td>\n",
       "      <td>96.04%</td>\n",
       "    </tr>\n",
       "    <tr>\n",
       "      <th>2</th>\n",
       "      <td>Support Vector</td>\n",
       "      <td>98.25%</td>\n",
       "      <td>0.986301</td>\n",
       "      <td>0.976744</td>\n",
       "      <td>0.981151</td>\n",
       "      <td>97.14%</td>\n",
       "    </tr>\n",
       "  </tbody>\n",
       "</table>\n",
       "</div>"
      ],
      "text/plain": [
       "                     Model Accuracy  Precision    Recall  F1 Score CV Accuracy\n",
       "0      Logistic Regression   97.37%   0.974206  0.969702  0.971863      97.36%\n",
       "1  RandomForest Classifier   96.49%   0.967257  0.958074  0.962302      96.04%\n",
       "2           Support Vector   98.25%   0.986301  0.976744  0.981151      97.14%"
      ]
     },
     "execution_count": 29,
     "metadata": {},
     "output_type": "execute_result"
    }
   ],
   "source": [
    "# Models to be trained\n",
    "models = {\n",
    "    \"Logistic Regression\": clf_logReg,\n",
    "    \"RandomForest Classifier\": clf_rf,\n",
    "    \"Support Vector\": svc\n",
    "}\n",
    "\n",
    "# Model Training and Evaluation\n",
    "model_func(models, 10)"
   ]
  }
 ],
 "metadata": {
  "kernelspec": {
   "display_name": "base",
   "language": "python",
   "name": "python3"
  },
  "language_info": {
   "codemirror_mode": {
    "name": "ipython",
    "version": 3
   },
   "file_extension": ".py",
   "mimetype": "text/x-python",
   "name": "python",
   "nbconvert_exporter": "python",
   "pygments_lexer": "ipython3",
   "version": "3.12.3"
  }
 },
 "nbformat": 4,
 "nbformat_minor": 2
}
